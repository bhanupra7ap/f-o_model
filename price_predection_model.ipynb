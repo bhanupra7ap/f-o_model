{
  "nbformat": 4,
  "nbformat_minor": 0,
  "metadata": {
    "colab": {
      "provenance": [],
      "authorship_tag": "ABX9TyODqCqV/Iq2XkyUJna+/i4N",
      "include_colab_link": true
    },
    "kernelspec": {
      "name": "python3",
      "display_name": "Python 3"
    },
    "language_info": {
      "name": "python"
    }
  },
  "cells": [
    {
      "cell_type": "markdown",
      "metadata": {
        "id": "view-in-github",
        "colab_type": "text"
      },
      "source": [
        "<a href=\"https://colab.research.google.com/github/bhanupra7ap/f-o_model/blob/main/price_predection_model.ipynb\" target=\"_parent\"><img src=\"https://colab.research.google.com/assets/colab-badge.svg\" alt=\"Open In Colab\"/></a>"
      ]
    },
    {
      "cell_type": "code",
      "execution_count": 39,
      "metadata": {
        "id": "QoOiFIRxzOtR"
      },
      "outputs": [],
      "source": [
        "import pandas as pd\n",
        "import numpy as np\n",
        "from sklearn.model_selection import train_test_split\n",
        "from sklearn.preprocessing import MinMaxScaler\n",
        "from tensorflow.keras.models import Sequential\n",
        "from tensorflow.keras.layers import LSTM, Dense, Dropout\n",
        "from sklearn.preprocessing import LabelEncoder"
      ]
    },
    {
      "cell_type": "code",
      "source": [
        "call_data = pd.read_csv('call_data.csv')\n",
        "put_data = pd.read_csv('put_data.csv')"
      ],
      "metadata": {
        "id": "ETDqdUZtzpL5"
      },
      "execution_count": 40,
      "outputs": []
    },
    {
      "cell_type": "code",
      "source": [
        "columns_to_drop = ['Settle Price', 'Symbol', 'Underlying Value', 'Turnover * in  ₹ Lakhs', 'Premium Turnover ** in   ₹ Lakhs']\n",
        "call_data = call_data.drop(columns=columns_to_drop)\n",
        "put_data = put_data.drop(columns=columns_to_drop)\n",
        "\n",
        "data = pd.concat([call_data, put_data])"
      ],
      "metadata": {
        "id": "dCb_QSIfzsDY"
      },
      "execution_count": 41,
      "outputs": []
    },
    {
      "cell_type": "code",
      "source": [
        "data['Date'] = pd.to_datetime(data['Date'])\n",
        "data['Expiry'] = pd.to_datetime(data['Expiry'])"
      ],
      "metadata": {
        "id": "DgInaZS10KAJ"
      },
      "execution_count": 42,
      "outputs": []
    },
    {
      "cell_type": "code",
      "source": [
        "label_encoder = LabelEncoder()\n",
        "data['Option Type'] = label_encoder.fit_transform(data['Option Type'])"
      ],
      "metadata": {
        "id": "wwYUOn-80TnT"
      },
      "execution_count": 43,
      "outputs": []
    },
    {
      "cell_type": "code",
      "source": [
        "data.replace(\"-\", 0, inplace=True)\n",
        "\n",
        "data['Open'] = pd.to_numeric(data['Open'], errors='coerce')\n",
        "data['High'] = pd.to_numeric(data['High'], errors='coerce')\n",
        "data['Low'] = pd.to_numeric(data['Low'], errors='coerce')\n",
        "data['Close'] = pd.to_numeric(data['Close'], errors='coerce')\n",
        "data['LTP'] = pd.to_numeric(data['LTP'], errors='coerce')\n",
        "data['No. of contracts'] = pd.to_numeric(data['No. of contracts'], errors='coerce')\n",
        "data['Open Int'] = pd.to_numeric(data['Open Int'], errors='coerce')\n",
        "data['Change in OI'] = pd.to_numeric(data['Change in OI'], errors='coerce')\n",
        "data['Strike Price'] = pd.to_numeric(data['Strike Price'], errors='coerce')"
      ],
      "metadata": {
        "id": "KrLgHmfW3GfG"
      },
      "execution_count": 44,
      "outputs": []
    },
    {
      "cell_type": "code",
      "source": [
        "scaler = MinMaxScaler()\n",
        "data[['Open', 'High', 'Low', 'Close', 'LTP', 'No. of contracts', 'Open Int', 'Change in OI', 'Strike Price']] = scaler.fit_transform(data[['Open', 'High', 'Low', 'Close', 'LTP', 'No. of contracts', 'Open Int', 'Change in OI', 'Strike Price']])"
      ],
      "metadata": {
        "id": "Kpa6boOV0mAT"
      },
      "execution_count": 45,
      "outputs": []
    },
    {
      "cell_type": "code",
      "source": [
        "data['LTP_next'] = data['LTP'].shift(-1)\n",
        "data['Upward_move'] = np.where(data['LTP_next'] > data['LTP'], 1, 0)"
      ],
      "metadata": {
        "id": "XuoRWYy83ONL"
      },
      "execution_count": 46,
      "outputs": []
    },
    {
      "cell_type": "code",
      "source": [
        "data = data.dropna()"
      ],
      "metadata": {
        "id": "e9Jl2rRk4KmT"
      },
      "execution_count": 47,
      "outputs": []
    },
    {
      "cell_type": "code",
      "source": [
        "X = data[['Open', 'High', 'Low', 'Close', 'No. of contracts', 'Open Int', 'Change in OI', 'Strike Price', 'Option Type']]\n",
        "y = data['Upward_move']"
      ],
      "metadata": {
        "id": "UEu5tyf03TKi"
      },
      "execution_count": 48,
      "outputs": []
    },
    {
      "cell_type": "code",
      "source": [
        "X = np.array(X)\n",
        "y = np.array(y)\n",
        "X = X.reshape((X.shape[0], 1, X.shape[1]))"
      ],
      "metadata": {
        "id": "VDFJK_Ec3g0P"
      },
      "execution_count": 49,
      "outputs": []
    },
    {
      "cell_type": "code",
      "source": [
        "X_train, X_test, y_train, y_test = train_test_split(X, y, test_size=0.2, shuffle=False)"
      ],
      "metadata": {
        "id": "I7QKSSo13jjN"
      },
      "execution_count": 50,
      "outputs": []
    },
    {
      "cell_type": "code",
      "source": [
        "model = Sequential()\n",
        "model.add(LSTM(units=50, return_sequences=True, input_shape=(X_train.shape[1], X_train.shape[2])))\n",
        "model.add(Dropout(0.2))\n",
        "model.add(LSTM(units=50))\n",
        "model.add(Dropout(0.2))\n",
        "model.add(Dense(units=1, activation='sigmoid'))"
      ],
      "metadata": {
        "colab": {
          "base_uri": "https://localhost:8080/"
        },
        "id": "vTN8bDSN4U0v",
        "outputId": "30251a90-71fc-4445-abbf-f75688d6ec4e"
      },
      "execution_count": 51,
      "outputs": [
        {
          "output_type": "stream",
          "name": "stderr",
          "text": [
            "/usr/local/lib/python3.10/dist-packages/keras/src/layers/rnn/rnn.py:204: UserWarning: Do not pass an `input_shape`/`input_dim` argument to a layer. When using Sequential models, prefer using an `Input(shape)` object as the first layer in the model instead.\n",
            "  super().__init__(**kwargs)\n"
          ]
        }
      ]
    },
    {
      "cell_type": "code",
      "source": [
        "model.compile(optimizer='adam', loss='binary_crossentropy', metrics=['accuracy'])"
      ],
      "metadata": {
        "id": "JJ54Y8YZ4ZsD"
      },
      "execution_count": 52,
      "outputs": []
    },
    {
      "cell_type": "code",
      "source": [
        "model.fit(X_train, y_train, epochs=10, batch_size=32, validation_data=(X_test, y_test))\n"
      ],
      "metadata": {
        "colab": {
          "base_uri": "https://localhost:8080/"
        },
        "id": "A-yUsCdH4epg",
        "outputId": "1de5df15-63d4-4239-89a8-804c727a5941"
      },
      "execution_count": 53,
      "outputs": [
        {
          "output_type": "stream",
          "name": "stdout",
          "text": [
            "Epoch 1/10\n",
            "\u001b[1m2611/2611\u001b[0m \u001b[32m━━━━━━━━━━━━━━━━━━━━\u001b[0m\u001b[37m\u001b[0m \u001b[1m15s\u001b[0m 4ms/step - accuracy: 0.7179 - loss: 0.5704 - val_accuracy: 0.6959 - val_loss: 0.6388\n",
            "Epoch 2/10\n",
            "\u001b[1m2611/2611\u001b[0m \u001b[32m━━━━━━━━━━━━━━━━━━━━\u001b[0m\u001b[37m\u001b[0m \u001b[1m11s\u001b[0m 4ms/step - accuracy: 0.7513 - loss: 0.5438 - val_accuracy: 0.6984 - val_loss: 0.6243\n",
            "Epoch 3/10\n",
            "\u001b[1m2611/2611\u001b[0m \u001b[32m━━━━━━━━━━━━━━━━━━━━\u001b[0m\u001b[37m\u001b[0m \u001b[1m11s\u001b[0m 4ms/step - accuracy: 0.7579 - loss: 0.5359 - val_accuracy: 0.6932 - val_loss: 0.6192\n",
            "Epoch 4/10\n",
            "\u001b[1m2611/2611\u001b[0m \u001b[32m━━━━━━━━━━━━━━━━━━━━\u001b[0m\u001b[37m\u001b[0m \u001b[1m10s\u001b[0m 4ms/step - accuracy: 0.7590 - loss: 0.5251 - val_accuracy: 0.6938 - val_loss: 0.6057\n",
            "Epoch 5/10\n",
            "\u001b[1m2611/2611\u001b[0m \u001b[32m━━━━━━━━━━━━━━━━━━━━\u001b[0m\u001b[37m\u001b[0m \u001b[1m21s\u001b[0m 4ms/step - accuracy: 0.7591 - loss: 0.5160 - val_accuracy: 0.6977 - val_loss: 0.5893\n",
            "Epoch 6/10\n",
            "\u001b[1m2611/2611\u001b[0m \u001b[32m━━━━━━━━━━━━━━━━━━━━\u001b[0m\u001b[37m\u001b[0m \u001b[1m12s\u001b[0m 5ms/step - accuracy: 0.7602 - loss: 0.5100 - val_accuracy: 0.7056 - val_loss: 0.5970\n",
            "Epoch 7/10\n",
            "\u001b[1m2611/2611\u001b[0m \u001b[32m━━━━━━━━━━━━━━━━━━━━\u001b[0m\u001b[37m\u001b[0m \u001b[1m18s\u001b[0m 4ms/step - accuracy: 0.7590 - loss: 0.5110 - val_accuracy: 0.7004 - val_loss: 0.5834\n",
            "Epoch 8/10\n",
            "\u001b[1m2611/2611\u001b[0m \u001b[32m━━━━━━━━━━━━━━━━━━━━\u001b[0m\u001b[37m\u001b[0m \u001b[1m11s\u001b[0m 4ms/step - accuracy: 0.7597 - loss: 0.5087 - val_accuracy: 0.6978 - val_loss: 0.5798\n",
            "Epoch 9/10\n",
            "\u001b[1m2611/2611\u001b[0m \u001b[32m━━━━━━━━━━━━━━━━━━━━\u001b[0m\u001b[37m\u001b[0m \u001b[1m11s\u001b[0m 4ms/step - accuracy: 0.7591 - loss: 0.5091 - val_accuracy: 0.6945 - val_loss: 0.5834\n",
            "Epoch 10/10\n",
            "\u001b[1m2611/2611\u001b[0m \u001b[32m━━━━━━━━━━━━━━━━━━━━\u001b[0m\u001b[37m\u001b[0m \u001b[1m12s\u001b[0m 4ms/step - accuracy: 0.7590 - loss: 0.5068 - val_accuracy: 0.7083 - val_loss: 0.5825\n"
          ]
        },
        {
          "output_type": "execute_result",
          "data": {
            "text/plain": [
              "<keras.src.callbacks.history.History at 0x7cc19691f9a0>"
            ]
          },
          "metadata": {},
          "execution_count": 53
        }
      ]
    },
    {
      "cell_type": "code",
      "source": [
        "loss, accuracy = model.evaluate(X_test, y_test)"
      ],
      "metadata": {
        "colab": {
          "base_uri": "https://localhost:8080/"
        },
        "id": "NwdWXoz04t2N",
        "outputId": "c4589d9d-ac7e-41d3-8638-bc2be09ecff1"
      },
      "execution_count": 55,
      "outputs": [
        {
          "output_type": "stream",
          "name": "stdout",
          "text": [
            "\u001b[1m653/653\u001b[0m \u001b[32m━━━━━━━━━━━━━━━━━━━━\u001b[0m\u001b[37m\u001b[0m \u001b[1m1s\u001b[0m 2ms/step - accuracy: 0.7093 - loss: 0.5783\n"
          ]
        }
      ]
    },
    {
      "cell_type": "code",
      "source": [
        "print(f'Test Accuracy: {accuracy:.4f}')"
      ],
      "metadata": {
        "colab": {
          "base_uri": "https://localhost:8080/"
        },
        "id": "CXTyGhbm5KJI",
        "outputId": "5286a902-9cd2-49b2-b0f5-864a3131d3cc"
      },
      "execution_count": 56,
      "outputs": [
        {
          "output_type": "stream",
          "name": "stdout",
          "text": [
            "Test Accuracy: 0.7083\n"
          ]
        }
      ]
    }
  ]
}